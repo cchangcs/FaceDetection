{
 "cells": [
  {
   "cell_type": "code",
   "execution_count": 1,
   "metadata": {
    "collapsed": true
   },
   "outputs": [],
   "source": [
    "import cv2\n",
    "import time\n",
    "import sys"
   ]
  },
  {
   "cell_type": "code",
   "execution_count": 23,
   "metadata": {
    "collapsed": true
   },
   "outputs": [],
   "source": [
    "def detectFaceOpenCVHaar(faceCascade, frame, inHeight=300, inWidth=0):\n",
    "    frameOpenCVHaar = frame.copy()\n",
    "    frameHeight = frameOpenCVHaar.shape[0]\n",
    "    frameWidth = frameOpenCVHaar.shape[1]\n",
    "    if not inWidth:\n",
    "        inWidth = int((frameWidth / frameHeight) * inHeight)\n",
    "\n",
    "    scaleHeight = frameHeight / inHeight\n",
    "    scaleWidth = frameWidth / inWidth\n",
    "\n",
    "    frameOpenCVHaarSmall = cv2.resize(frameOpenCVHaar, (inWidth, inHeight))\n",
    "    frameGray = cv2.cvtColor(frameOpenCVHaarSmall, cv2.COLOR_BGR2GRAY)\n",
    "\n",
    "    faces = faceCascade.detectMultiScale(frameGray)\n",
    "    bboxes = []\n",
    "    for (x, y, w, h) in faces:\n",
    "        x1 = x\n",
    "        y1 = y\n",
    "        x2 = x + w\n",
    "        y2 = y + h\n",
    "        cvRect = [int(x1 * scaleWidth), int(y1 * scaleHeight),\n",
    "                  int(x2 * scaleWidth), int(y2 * scaleHeight)]\n",
    "        bboxes.append(cvRect)\n",
    "        cv2.rectangle(frameOpenCVHaar, (cvRect[0], cvRect[1]), (cvRect[2], cvRect[3]), (0, 255, 0),\n",
    "                      int(round(frameHeight / 150)), 4)\n",
    "    return frameOpenCVHaar, bboxes"
   ]
  },
  {
   "cell_type": "code",
   "execution_count": 24,
   "metadata": {},
   "outputs": [],
   "source": [
    "if __name__ == '__main__':\n",
    "    source = './videos/baby.mp4'\n",
    "\n",
    "    faceCascade = cv2.CascadeClassifier('./models/haarcascade_frontalface_default.xml')\n",
    "\n",
    "    cap = cv2.VideoCapture(source)\n",
    "    hasFrame, frame = cap.read()\n",
    "\n",
    "    vid_writer = cv2.VideoWriter('output-haar-{}.avi'.format(str(source).split(\".\")[0]),cv2.VideoWriter_fourcc('M','J','P','G'), 15, (frame.shape[1],frame.shape[0]))\n",
    "\n",
    "    frame_count = 0\n",
    "    tt_opencvHaar = 0\n",
    "    while(1):\n",
    "        hasFrame, frame = cap.read()\n",
    "        if not hasFrame:\n",
    "            break\n",
    "        frame_count += 1\n",
    "\n",
    "        t = time.time()\n",
    "        outOpencvHaar, bboxes = detectionFaceOpenCVHaar(faceCascade, frame)\n",
    "        tt_opencvHaar += time.time() - t\n",
    "        fpsOpencvHaar = frame_count / tt_opencvHaar\n",
    "\n",
    "        label = \"OpenCV Haar ; FPS : {:.2f}\".format(fpsOpencvHaar)\n",
    "        cv2.putText(outOpencvHaar, label, (10, 50), cv2.FONT_HERSHEY_SIMPLEX, 1.4, (0, 0, 255), 3, cv2.LINE_AA)\n",
    "\n",
    "        cv2.imshow(\"Face Detection Comparison\", outOpencvHaar)\n",
    "\n",
    "        vid_writer.write(outOpencvHaar)\n",
    "        if frame_count == 1:\n",
    "            tt_opencvHaar = 0\n",
    "        \n",
    "        k = cv2.waitKey(10)\n",
    "        if k == 27:\n",
    "            break\n",
    "    cv2.destroyAllWindows()\n",
    "    vid_writer.release()\n"
   ]
  },
  {
   "cell_type": "code",
   "execution_count": null,
   "metadata": {
    "collapsed": true
   },
   "outputs": [],
   "source": []
  }
 ],
 "metadata": {
  "kernelspec": {
   "display_name": "Python 3",
   "language": "python",
   "name": "python3"
  },
  "language_info": {
   "codemirror_mode": {
    "name": "ipython",
    "version": 3
   },
   "file_extension": ".py",
   "mimetype": "text/x-python",
   "name": "python",
   "nbconvert_exporter": "python",
   "pygments_lexer": "ipython3",
   "version": "3.6.3"
  }
 },
 "nbformat": 4,
 "nbformat_minor": 2
}
