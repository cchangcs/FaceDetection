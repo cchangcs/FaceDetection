{
 "cells": [
  {
   "cell_type": "code",
   "execution_count": 1,
   "metadata": {
    "collapsed": true
   },
   "outputs": [],
   "source": [
    "import cv2\n",
    "import dlib\n",
    "import time\n",
    "import sys"
   ]
  },
  {
   "cell_type": "code",
   "execution_count": 9,
   "metadata": {
    "collapsed": true
   },
   "outputs": [],
   "source": [
    "def detectFaceDlibMMOD(detector, frame, inHeight=300, inWidth=0):\n",
    "    frameDlibMMOD = frame.copy()\n",
    "    frameHeight = frameDlibMMOD.shape[0]\n",
    "    frameWidth = frameDlibMMOD.shape[1]\n",
    "    \n",
    "    if not inWidth:\n",
    "        inWidth = int((frameWidth / frameHeight) * inHeight)\n",
    "    \n",
    "    scaleHeight = frameHeight / inHeight\n",
    "    scaleWidth = frameWidth / inWidth\n",
    "    \n",
    "    frameDlibMMODSmall = cv2.resize(frameDlibMMOD, (inWidth, inHeight))\n",
    "    frameDlibMMODSmall = cv2.cvtColor(frameDlibMMODSmall, cv2.COLOR_BGR2RGB)\n",
    "    faceRects = detector(frameDlibMMODSmall, 0)\n",
    "    \n",
    "    print(frameWidth, frameHeight, inWidth, inHeight)\n",
    "    bboxes = [] \n",
    "    for faceRect in faceRects:\n",
    "        cvRect = [int(faceRect.rect.left() * scaleWidth), int(faceRect.rect.top() * scaleHeight), int(faceRect.rect.right() * scaleWidth), int(faceRect.rect.bottom() * scaleHeight)]\n",
    "        bboxes.append(cvRect)\n",
    "        cv2.rectangle(frameDlibMMOD, (cvRect[0], cvRect[1]), (cvRect[2], cvRect[3]), (0, 255, 0), int(round(frameHeight / 150)), 4)\n",
    "    return frameDlibMMOD, bboxes"
   ]
  },
  {
   "cell_type": "code",
   "execution_count": null,
   "metadata": {},
   "outputs": [
    {
     "name": "stdout",
     "output_type": "stream",
     "text": [
      "720 720 300 300\n",
      "720 720 300 300\n",
      "720 720 300 300\n",
      "720 720 300 300\n",
      "720 720 300 300\n",
      "720 720 300 300\n",
      "720 720 300 300\n",
      "720 720 300 300\n",
      "720 720 300 300\n",
      "720 720 300 300\n",
      "720 720 300 300\n",
      "720 720 300 300\n",
      "720 720 300 300\n",
      "720 720 300 300\n",
      "720 720 300 300\n",
      "720 720 300 300\n",
      "720 720 300 300\n",
      "720 720 300 300\n",
      "720 720 300 300\n"
     ]
    }
   ],
   "source": [
    "if __name__ == '__main__':\n",
    "    source  = 'videos/baby.mp4'\n",
    "    \n",
    "    cap = cv2.VideoCapture(source)\n",
    "    \n",
    "    hasFrame, frame = cap.read()\n",
    "    \n",
    "    dnnFaceDetector = dlib.cnn_face_detection_model_v1('./models/mmod_human_face_detector.dat')\n",
    "    \n",
    "    vid_writer = cv2.VideoWriter('output-mmod-{}.avi'.format(str(source).split(\".\")[0]), cv2.VideoWriter_fourcc(\"M\", \"J\", \"P\", \"G\"), 15, (frame.shape[1], frame.shape[0]))\n",
    "    \n",
    "    frame_count = 0\n",
    "    \n",
    "    tt_dlibMmod = 0\n",
    "    while(1):\n",
    "        hasFrame, frame = cap.read()\n",
    "        if not hasFrame:\n",
    "            break\n",
    "        \n",
    "        frame_count += 1\n",
    "        t = time.time()\n",
    "        outDlibMMOD, bboxes = detectFaceDlibMMOD(dnnFaceDetector, frame)\n",
    "        tt_dlibMmod += time.time() - t\n",
    "        fpsDlibMmod = frame_count / tt_dlibMmod\n",
    "\n",
    "        label = \"DLIB MMOD ; FPS : {:.2f}\".format(fpsDlibMmod)\n",
    "        cv2.putText(outDlibMMOD, label, (10, 50), cv2.FONT_HERSHEY_SIMPLEX, 1.4, (0, 0, 255), 3, cv2.LINE_AA)\n",
    "\n",
    "        cv2.imshow(\"Face Detection Comparison\", outDlibMMOD)\n",
    "\n",
    "        vid_writer.write(outDlibMMOD)\n",
    "        if frame_count == 1:\n",
    "            tt_dlibMmod = 0\n",
    "\n",
    "        k = cv2.waitKey(10)\n",
    "        if k == 27:\n",
    "            break\n",
    "    cv2.destroyAllWindows()\n",
    "    vid_writer.release()"
   ]
  },
  {
   "cell_type": "code",
   "execution_count": null,
   "metadata": {
    "collapsed": true
   },
   "outputs": [],
   "source": []
  }
 ],
 "metadata": {
  "kernelspec": {
   "display_name": "Python 3",
   "language": "python",
   "name": "python3"
  },
  "language_info": {
   "codemirror_mode": {
    "name": "ipython",
    "version": 3
   },
   "file_extension": ".py",
   "mimetype": "text/x-python",
   "name": "python",
   "nbconvert_exporter": "python",
   "pygments_lexer": "ipython3",
   "version": "3.6.3"
  }
 },
 "nbformat": 4,
 "nbformat_minor": 2
}
